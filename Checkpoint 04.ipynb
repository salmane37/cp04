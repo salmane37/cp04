{
 "cells": [
  {
   "cell_type": "code",
   "execution_count": 2,
   "id": "9be9f7fe",
   "metadata": {},
   "outputs": [
    {
     "name": "stdout",
     "output_type": "stream",
     "text": [
      "(1, 2, 3)\n"
     ]
    }
   ],
   "source": [
    "class Point3D:\n",
    "    def __init__(self, x=0, y=0, z=0):\n",
    "        self.x = x\n",
    "        self.y = y\n",
    "        self.z = z\n",
    "        \n",
    "    def coordinates(self):\n",
    "        return (self.x, self.y, self.z)\n",
    "    \n",
    "my_point = Point3D(1, 2, 3)\n",
    "print(my_point.coordinates())"
   ]
  },
  {
   "cell_type": "code",
   "execution_count": 5,
   "id": "289ae4cf",
   "metadata": {},
   "outputs": [
    {
     "name": "stdout",
     "output_type": "stream",
     "text": [
      "14\n",
      "12\n"
     ]
    }
   ],
   "source": [
    "class Rectangle:\n",
    "    def __init__(self, width, length):\n",
    "        self.width = width\n",
    "        self.length =  length\n",
    "        \n",
    "    def area(self):\n",
    "        return self.width * self.length\n",
    "    \n",
    "    def perimeter(self):\n",
    "        return 2*(self.width + self.length)\n",
    "    \n",
    "    \n",
    "rekt = Rectangle(4, 3)\n",
    "print(rekt.perimeter())\n",
    "print(rekt.area())"
   ]
  },
  {
   "cell_type": "code",
   "execution_count": 8,
   "id": "80595349",
   "metadata": {},
   "outputs": [
    {
     "data": {
      "text/plain": [
       "False"
      ]
     },
     "execution_count": 8,
     "metadata": {},
     "output_type": "execute_result"
    }
   ],
   "source": [
    "import math\n",
    "class Circle:\n",
    "    def __init__(self, radius, center=(0, 0)):\n",
    "        self.center = center\n",
    "        self.radius =  radius\n",
    "        \n",
    "    def area(self):\n",
    "        return (self.radius**2)*math.pi\n",
    "    \n",
    "    def perimeter(self):\n",
    "        return self.radius*2*math.pi\n",
    "    \n",
    "    def is_inside(self, x, y):\n",
    "        dist = (self.center[0] - x)**2 \n",
    "        dist += (self.center[1] - y)**2\n",
    "        dist = math.sqrt(dist)\n",
    "        \n",
    "        return dist < self.radius\n",
    "    \n",
    "\n",
    "C = Circle(2, (0, 0))\n",
    "C.is_inside(2, 1)"
   ]
  },
  {
   "cell_type": "code",
   "execution_count": 19,
   "id": "45d0e2fe",
   "metadata": {},
   "outputs": [
    {
     "name": "stdout",
     "output_type": "stream",
     "text": [
      "Withdrawing 500 DHS\n",
      "Remaining balance: 500 DHS\n",
      "=========================\n",
      "Depositing 2000 DHS\n",
      "Remaining balance: 2500 DHS\n",
      "=========================\n",
      "Your balance is not enough to withdraw such an amount\n",
      "=========================\n",
      "Withdrawing 2599 DHS\n",
      "Remaining balance: -99 DHS\n",
      "=========================\n"
     ]
    }
   ],
   "source": [
    "class Bank:\n",
    "    def __init__(self, balance):\n",
    "        self.balance = balance\n",
    "    def withdraw(self, amount):\n",
    "        if self.balance - amount >= -100:\n",
    "            print(\"Withdrawing {} DHS\".format(amount))\n",
    "            self.balance -= amount\n",
    "            print(\"Remaining balance: {} DHS\".format(self.balance))\n",
    "        else:\n",
    "            print(\"Your balance is not enough to withdraw such an amount\")\n",
    "        print(\"=\"*25)\n",
    "        \n",
    "        \n",
    "        \n",
    "    def deposit(self, amount):\n",
    "        print(\"Depositing {} DHS\".format(amount))\n",
    "        self.balance += amount\n",
    "        print(\"Remaining balance: {} DHS\".format(self.balance))\n",
    "        print(\"=\"*25)\n",
    "    \n",
    "my_bank = Bank(1000)\n",
    "my_bank.withdraw(500)\n",
    "my_bank.deposit(2000)\n",
    "my_bank.withdraw(5000)\n",
    "my_bank.withdraw(2599)"
   ]
  },
  {
   "cell_type": "code",
   "execution_count": null,
   "id": "189d0e08",
   "metadata": {},
   "outputs": [],
   "source": []
  }
 ],
 "metadata": {
  "kernelspec": {
   "display_name": "Python 3 (ipykernel)",
   "language": "python",
   "name": "python3"
  },
  "language_info": {
   "codemirror_mode": {
    "name": "ipython",
    "version": 3
   },
   "file_extension": ".py",
   "mimetype": "text/x-python",
   "name": "python",
   "nbconvert_exporter": "python",
   "pygments_lexer": "ipython3",
   "version": "3.9.12"
  }
 },
 "nbformat": 4,
 "nbformat_minor": 5
}
